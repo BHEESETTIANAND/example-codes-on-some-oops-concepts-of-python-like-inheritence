{
 "cells": [
  {
   "cell_type": "markdown",
   "id": "49f7f01d",
   "metadata": {},
   "source": [
    " # Class and Object with respect to Object-Oriented Programming."
   ]
  },
  {
   "cell_type": "code",
   "execution_count": null,
   "id": "99f84748",
   "metadata": {},
   "outputs": [],
   "source": [
    "\"\"\" The class is the detailed descripition of whan an object dhould be.\n",
    "    It is the blueprint of the object\n",
    "    \n",
    "    The object is the real world entity\n",
    "    The object is defined as the instance of the class\"\"\""
   ]
  },
  {
   "cell_type": "code",
   "execution_count": 8,
   "id": "bede92db",
   "metadata": {},
   "outputs": [],
   "source": [
    "class anand():\n",
    "    def __init__(an,x,y):\n",
    "        an.x=x\n",
    "        an.y=y\n",
    "    def display(an):\n",
    "        return an.x,an.y"
   ]
  },
  {
   "cell_type": "code",
   "execution_count": 10,
   "id": "b03eee0f",
   "metadata": {},
   "outputs": [],
   "source": [
    "a=anand(10,20)"
   ]
  },
  {
   "cell_type": "code",
   "execution_count": 11,
   "id": "e75862fe",
   "metadata": {},
   "outputs": [
    {
     "data": {
      "text/plain": [
       "(10, 20)"
      ]
     },
     "execution_count": 11,
     "metadata": {},
     "output_type": "execute_result"
    }
   ],
   "source": [
    "a.display()"
   ]
  },
  {
   "cell_type": "code",
   "execution_count": 12,
   "id": "6b3c5e3d",
   "metadata": {},
   "outputs": [
    {
     "data": {
      "text/plain": [
       "10"
      ]
     },
     "execution_count": 12,
     "metadata": {},
     "output_type": "execute_result"
    }
   ],
   "source": [
    "a.x # where a is the objectof the class"
   ]
  },
  {
   "cell_type": "code",
   "execution_count": 13,
   "id": "93117fe6",
   "metadata": {},
   "outputs": [
    {
     "data": {
      "text/plain": [
       "20"
      ]
     },
     "execution_count": 13,
     "metadata": {},
     "output_type": "execute_result"
    }
   ],
   "source": [
    "a.y"
   ]
  },
  {
   "cell_type": "markdown",
   "id": "88336b19",
   "metadata": {},
   "source": [
    "# The four pillars of the oops are\n",
    "        i.Inheritence\n",
    "        ii.polymorphisim\n",
    "        iii.abstraction\n",
    "        iv.encapsulation"
   ]
  },
  {
   "cell_type": "markdown",
   "id": "d8d5e31f",
   "metadata": {},
   "source": [
    "# The __init__() function is used as the constructor in the classes\n",
    "    through the __init__() function the user can pass the information into the class\n",
    "    the information passed by the user into constructor is different from object to object"
   ]
  },
  {
   "cell_type": "code",
   "execution_count": 16,
   "id": "d2a446b0",
   "metadata": {},
   "outputs": [],
   "source": [
    "class dinesh:\n",
    "    def __init__(self):\n",
    "        print(\"hi everyone\")\n",
    "    "
   ]
  },
  {
   "cell_type": "code",
   "execution_count": 17,
   "id": "22e635b5",
   "metadata": {},
   "outputs": [
    {
     "name": "stdout",
     "output_type": "stream",
     "text": [
      "hi everyone\n"
     ]
    }
   ],
   "source": [
    "v=dinesh()"
   ]
  },
  {
   "cell_type": "markdown",
   "id": "41758aec",
   "metadata": {},
   "source": [
    "# The self used in the oops to let class to know that the particular method belongs to the class\n",
    "    The self method binds the methods with the respective class"
   ]
  },
  {
   "cell_type": "markdown",
   "id": "c8106a03",
   "metadata": {},
   "source": [
    "# Inheritence\n",
    "    It is defined as creating the new class from old class\n",
    "    the inheritence provides code reusability\n",
    "    \n",
    "    there are four types of inheritence:\n",
    "        i.single\n",
    "        ii.multiple\n",
    "        iii.multi-level\n",
    "        iv.hierarical\n",
    "        "
   ]
  },
  {
   "cell_type": "code",
   "execution_count": 20,
   "id": "108c8055",
   "metadata": {},
   "outputs": [],
   "source": [
    "# single inheritence\n",
    "class parent:\n",
    "    def fun1(self):\n",
    "        print(\"fun1\")\n",
    "class child(parent):\n",
    "    def fun2(self):\n",
    "        print(\"fun2\")"
   ]
  },
  {
   "cell_type": "code",
   "execution_count": 21,
   "id": "7cd29a17",
   "metadata": {},
   "outputs": [],
   "source": [
    "w=child()"
   ]
  },
  {
   "cell_type": "code",
   "execution_count": 22,
   "id": "90d0542f",
   "metadata": {},
   "outputs": [
    {
     "name": "stdout",
     "output_type": "stream",
     "text": [
      "fun1\n"
     ]
    }
   ],
   "source": [
    "w.fun1()"
   ]
  },
  {
   "cell_type": "code",
   "execution_count": 23,
   "id": "ca24f9c0",
   "metadata": {},
   "outputs": [
    {
     "name": "stdout",
     "output_type": "stream",
     "text": [
      "fun2\n"
     ]
    }
   ],
   "source": [
    "w.fun2()"
   ]
  },
  {
   "cell_type": "code",
   "execution_count": 26,
   "id": "cbe5e6dc",
   "metadata": {},
   "outputs": [],
   "source": [
    "# multiple inhritence\n",
    "class base1:\n",
    "    def fun1(self):\n",
    "        print(\"fun1\")\n",
    "class base2:\n",
    "    def fun2(self):\n",
    "        print(\"fun2\")\n",
    "class child1(base1,base2):\n",
    "    def fun3(self):\n",
    "        print(\"fun3\")"
   ]
  },
  {
   "cell_type": "code",
   "execution_count": 27,
   "id": "89bae107",
   "metadata": {},
   "outputs": [],
   "source": [
    "d=child1()"
   ]
  },
  {
   "cell_type": "code",
   "execution_count": 28,
   "id": "0af864c9",
   "metadata": {},
   "outputs": [
    {
     "name": "stdout",
     "output_type": "stream",
     "text": [
      "fun3\n"
     ]
    }
   ],
   "source": [
    "d.fun3()"
   ]
  },
  {
   "cell_type": "code",
   "execution_count": 29,
   "id": "4cfb32b6",
   "metadata": {},
   "outputs": [
    {
     "name": "stdout",
     "output_type": "stream",
     "text": [
      "fun2\n"
     ]
    }
   ],
   "source": [
    "d.fun2()"
   ]
  },
  {
   "cell_type": "code",
   "execution_count": 30,
   "id": "3422644f",
   "metadata": {},
   "outputs": [
    {
     "name": "stdout",
     "output_type": "stream",
     "text": [
      "fun1\n"
     ]
    }
   ],
   "source": [
    "d.fun1()"
   ]
  },
  {
   "cell_type": "code",
   "execution_count": 34,
   "id": "6dc72915",
   "metadata": {},
   "outputs": [],
   "source": [
    "#multi level inheritence\n",
    "class gparent:\n",
    "    def fun1(self):\n",
    "        print(\"fun1\")\n",
    "class parent(gparent):\n",
    "    def fun2(self):\n",
    "        print(\"fun2\")\n",
    "class child2(parent):\n",
    "    def fun3(self):\n",
    "        print(\"fun3\")"
   ]
  },
  {
   "cell_type": "code",
   "execution_count": 36,
   "id": "978c5e3d",
   "metadata": {},
   "outputs": [],
   "source": [
    "f=child2()"
   ]
  },
  {
   "cell_type": "code",
   "execution_count": 37,
   "id": "07172e44",
   "metadata": {},
   "outputs": [
    {
     "name": "stdout",
     "output_type": "stream",
     "text": [
      "fun1\n",
      "fun2\n",
      "fun3\n"
     ]
    }
   ],
   "source": [
    "f.fun1()\n",
    "f.fun2()\n",
    "f.fun3()"
   ]
  },
  {
   "cell_type": "code",
   "execution_count": 38,
   "id": "abaa00b4",
   "metadata": {},
   "outputs": [],
   "source": [
    "# hierarichal inheritence\n",
    "class parent2:\n",
    "    def fun1(self):\n",
    "        print(\"fun1\")\n",
    "class child4(parent2):\n",
    "    def fun2(self):\n",
    "        print(\"fun2\")\n",
    "class child5(parent2):\n",
    "    def fun3(self):\n",
    "        print(\"fun3\")"
   ]
  },
  {
   "cell_type": "code",
   "execution_count": 39,
   "id": "18df0d61",
   "metadata": {},
   "outputs": [
    {
     "name": "stdout",
     "output_type": "stream",
     "text": [
      "fun1\n",
      "fun3\n",
      "fun1\n",
      "fun2\n"
     ]
    }
   ],
   "source": [
    "g=child5()\n",
    "h=child4()\n",
    "g.fun1()\n",
    "g.fun3()\n",
    "h.fun1()\n",
    "h.fun2()"
   ]
  },
  {
   "cell_type": "code",
   "execution_count": 40,
   "id": "ce5a287c",
   "metadata": {},
   "outputs": [
    {
     "name": "stdout",
     "output_type": "stream",
     "text": [
      "This function is in school.\n",
      "This function is in student 1. \n"
     ]
    }
   ],
   "source": [
    "# hybrid inheritence\n",
    "class School:\n",
    "    def func1(self):\n",
    "        print(\"This function is in school.\")\n",
    " \n",
    " \n",
    "class Student1(School):\n",
    "    def func2(self):\n",
    "        print(\"This function is in student 1. \")\n",
    " \n",
    " \n",
    "class Student2(School):\n",
    "    def func3(self):\n",
    "        print(\"This function is in student 2.\")\n",
    " \n",
    " \n",
    "class Student3(Student1, School):\n",
    "    def func4(self):\n",
    "        print(\"This function is in student 3.\")\n",
    " \n",
    " \n",
    "\n",
    "object = Student3()\n",
    "object.func1()\n",
    "object.func2()"
   ]
  },
  {
   "cell_type": "code",
   "execution_count": null,
   "id": "fd8407dd",
   "metadata": {},
   "outputs": [],
   "source": []
  }
 ],
 "metadata": {
  "kernelspec": {
   "display_name": "Python 3 (ipykernel)",
   "language": "python",
   "name": "python3"
  },
  "language_info": {
   "codemirror_mode": {
    "name": "ipython",
    "version": 3
   },
   "file_extension": ".py",
   "mimetype": "text/x-python",
   "name": "python",
   "nbconvert_exporter": "python",
   "pygments_lexer": "ipython3",
   "version": "3.9.13"
  }
 },
 "nbformat": 4,
 "nbformat_minor": 5
}
